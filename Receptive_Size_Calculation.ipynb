{
 "cells": [
  {
   "cell_type": "code",
   "execution_count": 7,
   "metadata": {
    "collapsed": false
   },
   "outputs": [
    {
     "name": "stdout",
     "output_type": "stream",
     "text": [
      "227 227\n",
      "conv1.1 227.0 1 3\n",
      "conv1.2 227.0 1 5\n",
      "pool1 113.5 2 6\n",
      "conv2.1 113.5 2 10\n",
      "conv2.2 113.5 2 14\n",
      "pool2 56.75 4 16\n",
      "conv3.1 56.75 4 24\n",
      "conv3.2 56.75 4 32\n",
      "conv3.3 56.75 4 40\n",
      "pool3 28.375 8 44\n",
      "conv4.1 28.375 8 60\n",
      "conv4.2 28.375 8 76\n",
      "conv4.3 28.375 8 92\n",
      "pool4 14.1875 16 100\n",
      "conv5.1 14.1875 16 132\n",
      "conv5.2 14.1875 16 164\n",
      "conv5.3 14.1875 16 196\n",
      "pool5 7.09375 32 212\n",
      "fc6-conv 1.09375 32 404\n",
      "fc7-conv 1.09375 32 404\n"
     ]
    }
   ],
   "source": [
    "# [filter size, stride, padding]\n",
    "\n",
    "#convnet =[[11,4,0],[3,2,0],[5,1,2],[3,2,0],[3,1,1],[3,1,1],[3,1,1],[3,2,0],[6,1,0]]\n",
    "#layer_name = ['conv1','pool1','conv2','pool2','conv3','conv4','conv5','pool5','fc6-conv']\n",
    "\n",
    "convnet =[[3,1,1],[3,1,1],[2,2,0],\n",
    "          [3,1,1],[3,1,1],[2,2,0],\n",
    "          [3,1,1],[3,1,1],[3,1,1],[2,2,0],\n",
    "          [3,1,1],[3,1,1],[3,1,1],[2,2,0],\n",
    "          [3,1,1],[3,1,1],[3,1,1],[2,2,0],\n",
    "          [7,1,0],[1,1,0]]\n",
    "layer_name = ['conv1.1','conv1.2','pool1',\n",
    "              'conv2.1','conv2.2','pool2',\n",
    "              'conv3.1','conv3.2','conv3.3','pool3',\n",
    "              'conv4.1','conv4.2','conv4.3','pool4',\n",
    "              'conv5.1','conv5.2','conv5.3','pool5',\n",
    "              'fc6-conv', 'fc7-conv']\n",
    "\n",
    "imsize = 227\n",
    "\n",
    "def outFromIn(isz, layernum = 9, net = convnet):\n",
    "    if layernum>len(net): layernum=len(net)\n",
    "\n",
    "    totstride = 1\n",
    "    insize = isz\n",
    "    #for layerparams in net:\n",
    "    for layer in range(layernum):\n",
    "        fsize, stride, pad = net[layer]\n",
    "        outsize = (insize - fsize + 2*pad) / stride + 1\n",
    "        insize = outsize\n",
    "        totstride = totstride * stride\n",
    "    return outsize, totstride\n",
    "\n",
    "def inFromOut( layernum = 9, net = convnet):\n",
    "    if layernum>len(net): layernum=len(net)\n",
    "    outsize = 1\n",
    "    #for layerparams in net:\n",
    "    for layer in reversed(range(layernum)):\n",
    "        fsize, stride, pad = net[layer]\n",
    "        outsize = ((outsize -1)* stride) + fsize\n",
    "    RFsize = outsize\n",
    "    return RFsize\n",
    "\n",
    "if __name__ == '__main__':\n",
    "\n",
    "    print(imsize, imsize)\n",
    "    for i in range(len(convnet)):\n",
    "        p = outFromIn(imsize,i+1)\n",
    "        rf = inFromOut(i+1)\n",
    "        print(layer_name[i], p[0], p[1], rf)"
   ]
  },
  {
   "cell_type": "code",
   "execution_count": null,
   "metadata": {
    "collapsed": true
   },
   "outputs": [],
   "source": []
  }
 ],
 "metadata": {
  "kernelspec": {
   "display_name": "Python 3",
   "language": "python",
   "name": "python3"
  },
  "language_info": {
   "codemirror_mode": {
    "name": "ipython",
    "version": 3
   },
   "file_extension": ".py",
   "mimetype": "text/x-python",
   "name": "python",
   "nbconvert_exporter": "python",
   "pygments_lexer": "ipython3",
   "version": "3.6.0"
  }
 },
 "nbformat": 4,
 "nbformat_minor": 2
}
