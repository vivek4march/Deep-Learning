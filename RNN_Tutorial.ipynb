{
 "cells": [
  {
   "cell_type": "code",
   "execution_count": 1,
   "metadata": {
    "collapsed": true
   },
   "outputs": [],
   "source": [
    "import torch\n",
    "import torch.nn as nn\n",
    "from torch.autograd import Variable\n",
    "import torchvision.datasets as dsets\n",
    "import torchvision.transforms as transforms"
   ]
  },
  {
   "cell_type": "code",
   "execution_count": 12,
   "metadata": {
    "collapsed": true
   },
   "outputs": [],
   "source": [
    "# Hyper Parameter\n",
    "sequence_length = 28\n",
    "input_size = 28\n",
    "hidden_size = 128\n",
    "num_layers = 2\n",
    "num_classes = 10\n",
    "batch_size = 100\n",
    "num_epochs = 2\n",
    "learning_rate = 0.01"
   ]
  },
  {
   "cell_type": "code",
   "execution_count": 3,
   "metadata": {
    "collapsed": true
   },
   "outputs": [],
   "source": [
    "# MNIST Dataset\n",
    "train_dataset = dsets.MNIST(root='../data/',\n",
    "                            train=True, \n",
    "                            transform=transforms.ToTensor(),\n",
    "                            download=True)\n",
    "\n",
    "test_dataset = dsets.MNIST(root='../data/',\n",
    "                           train=False, \n",
    "                           transform=transforms.ToTensor())\n",
    "\n",
    "# Data Loader (Input Pipeline)\n",
    "train_loader = torch.utils.data.DataLoader(dataset=train_dataset,\n",
    "                                           batch_size=batch_size, \n",
    "                                           shuffle=True)\n",
    "\n",
    "test_loader = torch.utils.data.DataLoader(dataset=test_dataset,\n",
    "                                          batch_size=batch_size, \n",
    "                                          shuffle=False)\n",
    "\n",
    "# RNN Model (Many-to-One)"
   ]
  },
  {
   "cell_type": "code",
   "execution_count": 9,
   "metadata": {
    "collapsed": false
   },
   "outputs": [],
   "source": [
    "# RNN Model (Many-to-One)\n",
    "class RNN(nn.Module):\n",
    "    def __init__(self, input_size, hidden_size, num_layers, num_classes):\n",
    "        super(RNN, self).__init__()\n",
    "        self.hidden_size = hidden_size\n",
    "        self.num_layers = num_layers\n",
    "        self.input_size = input_size\n",
    "        self.num_classes = num_classes\n",
    "        self.lstm = nn.LSTM(input_size, hidden_size, num_layers, batch_first = True)\n",
    "        self.fc = nn.Linear(hidden_size, num_classes)\n",
    "    \n",
    "    def forward(self, x):\n",
    "        #Set initial states\n",
    "        \n",
    "        h0 = Variable(torch.zeros(num_layers, x.size(0), self.hidden_size))\n",
    "        c0 = Variable(torch.zeros(num_layers, x.size(0), self.hidden_size))\n",
    "        \n",
    "        #Forward Propagate\n",
    "        \n",
    "        out, _ = self.lstm(x, (h0,c0))\n",
    "        \n",
    "         # Decode hidden state of last time step\n",
    "        out = self.fc(out[:, -1, :])  \n",
    "        return out"
   ]
  },
  {
   "cell_type": "code",
   "execution_count": 10,
   "metadata": {
    "collapsed": false
   },
   "outputs": [],
   "source": [
    "rnn = RNN(input_size, hidden_size, num_layers, num_classes)\n",
    "\n",
    "\n",
    "# Loss and Optimizer\n",
    "criterion = nn.CrossEntropyLoss()\n",
    "optimizer = torch.optim.Adam(rnn.parameters(), lr=learning_rate)"
   ]
  },
  {
   "cell_type": "code",
   "execution_count": 13,
   "metadata": {
    "collapsed": false
   },
   "outputs": [
    {
     "name": "stdout",
     "output_type": "stream",
     "text": [
      "Epoch [1/2], Step [100/600], Loss: 0.5338\n",
      "Epoch [1/2], Step [200/600], Loss: 0.2692\n",
      "Epoch [1/2], Step [300/600], Loss: 0.1629\n",
      "Epoch [1/2], Step [400/600], Loss: 0.1019\n",
      "Epoch [1/2], Step [500/600], Loss: 0.1880\n",
      "Epoch [1/2], Step [600/600], Loss: 0.1304\n",
      "Epoch [2/2], Step [100/600], Loss: 0.0794\n",
      "Epoch [2/2], Step [200/600], Loss: 0.1503\n",
      "Epoch [2/2], Step [300/600], Loss: 0.0494\n",
      "Epoch [2/2], Step [400/600], Loss: 0.1390\n",
      "Epoch [2/2], Step [500/600], Loss: 0.2526\n",
      "Epoch [2/2], Step [600/600], Loss: 0.0866\n"
     ]
    }
   ],
   "source": [
    "# Train the Model\n",
    "for epoch in range(num_epochs):\n",
    "    for i, (images, labels) in enumerate(train_loader):\n",
    "        images = Variable(images.view(-1, sequence_length, input_size))\n",
    "        labels = Variable(labels)\n",
    "        \n",
    "        # Forward + Backward + Optimize\n",
    "        optimizer.zero_grad()\n",
    "        outputs = rnn(images)\n",
    "        loss = criterion(outputs, labels)\n",
    "        loss.backward()\n",
    "        optimizer.step()\n",
    "        \n",
    "        if (i+1) % 100 == 0:\n",
    "            print ('Epoch [%d/%d], Step [%d/%d], Loss: %.4f' \n",
    "                    %(epoch+1, num_epochs, i+1, len(train_dataset)//batch_size, loss.data[0]))"
   ]
  },
  {
   "cell_type": "code",
   "execution_count": 16,
   "metadata": {
    "collapsed": false
   },
   "outputs": [],
   "source": [
    " for i, (images, labels) in enumerate(train_loader):\n",
    "        images = Variable(images.view(-1, sequence_length, input_size))\n",
    "        labels = Variable(labels)"
   ]
  },
  {
   "cell_type": "code",
   "execution_count": 29,
   "metadata": {
    "collapsed": false
   },
   "outputs": [
    {
     "data": {
      "text/plain": [
       "100"
      ]
     },
     "execution_count": 29,
     "metadata": {},
     "output_type": "execute_result"
    }
   ],
   "source": [
    "images.size(0)"
   ]
  },
  {
   "cell_type": "code",
   "execution_count": 31,
   "metadata": {
    "collapsed": false
   },
   "outputs": [
    {
     "data": {
      "text/plain": [
       "\n",
       "1.00000e-02 *\n",
       "  8.6606\n",
       "[torch.FloatTensor of size 1]"
      ]
     },
     "execution_count": 31,
     "metadata": {},
     "output_type": "execute_result"
    }
   ],
   "source": [
    "loss.data"
   ]
  },
  {
   "cell_type": "code",
   "execution_count": 55,
   "metadata": {
    "collapsed": false
   },
   "outputs": [],
   "source": [
    "lstm = nn.LSTM(input_size, hidden_size, num_layers, batch_first = True)\n",
    "\n",
    "h0 = Variable(torch.zeros(num_layers, images.size(0), hidden_size))\n",
    "c0 = Variable(torch.zeros(num_layers, images.size(0), hidden_size))\n",
    "        \n",
    "#Forward Propagate\n",
    "        \n",
    "out, A  = lstm(images, (h0,c0))        "
   ]
  },
  {
   "cell_type": "code",
   "execution_count": 49,
   "metadata": {
    "collapsed": false
   },
   "outputs": [
    {
     "data": {
      "text/plain": [
       "Variable containing:\n",
       "( 0 ,.,.) = \n",
       " -1.1569e-02  1.5846e-02 -3.9912e-03  ...  -1.1828e-02 -2.5372e-02  1.4051e-02\n",
       " -2.0086e-02  2.3296e-02 -2.4362e-03  ...  -1.3378e-02 -3.9156e-02  1.5597e-02\n",
       " -2.5844e-02  2.6381e-02 -4.4064e-04  ...  -1.1961e-02 -4.6108e-02  1.3702e-02\n",
       "                 ...                   ⋱                   ...                \n",
       " -1.0073e-02  1.1796e-02  7.1005e-03  ...  -2.6459e-02 -5.0801e-02  1.1825e-02\n",
       " -1.6360e-02  1.4496e-02  9.4884e-03  ...  -2.2689e-02 -4.9924e-02  1.1296e-02\n",
       " -2.2157e-02  1.7666e-02  9.8018e-03  ...  -1.7962e-02 -4.9998e-02  1.0284e-02\n",
       "\n",
       "( 1 ,.,.) = \n",
       " -1.1569e-02  1.5846e-02 -3.9912e-03  ...  -1.1828e-02 -2.5372e-02  1.4051e-02\n",
       " -2.0086e-02  2.3296e-02 -2.4362e-03  ...  -1.3378e-02 -3.9156e-02  1.5597e-02\n",
       " -2.5844e-02  2.6381e-02 -4.4064e-04  ...  -1.1961e-02 -4.6108e-02  1.3702e-02\n",
       "                 ...                   ⋱                   ...                \n",
       " -2.5875e-02  2.2861e-02  9.3850e-03  ...  -9.8135e-03 -4.6350e-02  1.0997e-02\n",
       " -2.8196e-02  2.3669e-02  7.4379e-03  ...  -8.5117e-03 -4.8737e-02  9.2832e-03\n",
       " -3.0030e-02  2.4196e-02  5.8808e-03  ...  -7.4872e-03 -5.0076e-02  8.2828e-03\n",
       "\n",
       "( 2 ,.,.) = \n",
       " -1.1569e-02  1.5846e-02 -3.9912e-03  ...  -1.1828e-02 -2.5372e-02  1.4051e-02\n",
       " -2.0086e-02  2.3296e-02 -2.4362e-03  ...  -1.3378e-02 -3.9156e-02  1.5597e-02\n",
       " -2.5844e-02  2.6381e-02 -4.4064e-04  ...  -1.1961e-02 -4.6108e-02  1.3702e-02\n",
       "                 ...                   ⋱                   ...                \n",
       " -9.8145e-03  1.6912e-02  9.3893e-03  ...  -2.0611e-02 -4.4918e-02  2.8810e-02\n",
       " -1.7501e-02  2.1128e-02  8.6653e-03  ...  -1.4917e-02 -4.7140e-02  2.2812e-02\n",
       " -2.3204e-02  2.3688e-02  7.3839e-03  ...  -1.0894e-02 -4.8919e-02  1.7872e-02\n",
       "... \n",
       "\n",
       "(97 ,.,.) = \n",
       " -1.1569e-02  1.5846e-02 -3.9912e-03  ...  -1.1828e-02 -2.5372e-02  1.4051e-02\n",
       " -2.0086e-02  2.3296e-02 -2.4362e-03  ...  -1.3378e-02 -3.9156e-02  1.5597e-02\n",
       " -2.5844e-02  2.6381e-02 -4.4064e-04  ...  -1.1961e-02 -4.6108e-02  1.3702e-02\n",
       "                 ...                   ⋱                   ...                \n",
       " -2.1321e-02  1.7748e-02  5.8070e-03  ...  -1.8674e-02 -3.4637e-02  3.9329e-02\n",
       " -2.5234e-02  2.1469e-02  4.9584e-03  ...  -1.3929e-02 -3.9761e-02  3.0933e-02\n",
       " -2.8184e-02  2.3922e-02  4.1116e-03  ...  -1.0460e-02 -4.4048e-02  2.3866e-02\n",
       "\n",
       "(98 ,.,.) = \n",
       " -1.1569e-02  1.5846e-02 -3.9912e-03  ...  -1.1828e-02 -2.5372e-02  1.4051e-02\n",
       " -2.0086e-02  2.3296e-02 -2.4362e-03  ...  -1.3378e-02 -3.9156e-02  1.5597e-02\n",
       " -2.1467e-02  2.8347e-02 -7.2038e-04  ...  -1.3748e-02 -4.6930e-02  1.1491e-02\n",
       "                 ...                   ⋱                   ...                \n",
       " -2.6063e-02  2.4337e-02  5.9261e-03  ...  -1.0387e-02 -4.8322e-02  1.7479e-02\n",
       " -2.8717e-02  2.5212e-02  5.0447e-03  ...  -8.1412e-03 -4.9843e-02  1.4171e-02\n",
       " -3.0525e-02  2.5610e-02  4.3256e-03  ...  -6.8680e-03 -5.0685e-02  1.1749e-02\n",
       "\n",
       "(99 ,.,.) = \n",
       " -1.1569e-02  1.5846e-02 -3.9912e-03  ...  -1.1828e-02 -2.5372e-02  1.4051e-02\n",
       " -2.0086e-02  2.3296e-02 -2.4362e-03  ...  -1.3378e-02 -3.9156e-02  1.5597e-02\n",
       " -2.5844e-02  2.6381e-02 -4.4064e-04  ...  -1.1961e-02 -4.6108e-02  1.3702e-02\n",
       "                 ...                   ⋱                   ...                \n",
       " -1.9046e-02  2.2103e-02  5.8145e-03  ...  -1.7111e-02 -4.5204e-02  1.1911e-02\n",
       " -2.3428e-02  2.2840e-02  6.5993e-03  ...  -1.3833e-02 -4.7731e-02  1.0905e-02\n",
       " -2.6738e-02  2.3695e-02  6.1838e-03  ...  -1.1026e-02 -4.9398e-02  9.9010e-03\n",
       "[torch.FloatTensor of size 100x28x128]"
      ]
     },
     "execution_count": 49,
     "metadata": {},
     "output_type": "execute_result"
    }
   ],
   "source": [
    "out"
   ]
  },
  {
   "cell_type": "code",
   "execution_count": 70,
   "metadata": {
    "collapsed": false
   },
   "outputs": [
    {
     "data": {
      "text/plain": [
       "Variable containing:\n",
       " 6.2910e-02 -1.9163e-02 -7.8758e-02  ...   4.7302e-02 -3.2354e-02 -4.5685e-02\n",
       " 6.3158e-02 -1.5859e-02 -7.5224e-02  ...   3.8398e-02 -3.1954e-02 -4.2401e-02\n",
       " 6.0725e-02 -1.6988e-02 -7.9096e-02  ...   3.9929e-02 -2.8718e-02 -4.0764e-02\n",
       "                ...                   ⋱                   ...                \n",
       " 6.6429e-02 -1.6769e-02 -7.9435e-02  ...   3.8017e-02 -3.5446e-02 -4.0007e-02\n",
       " 6.2130e-02 -1.4991e-02 -7.6022e-02  ...   3.8656e-02 -2.9067e-02 -4.3446e-02\n",
       " 6.3985e-02 -1.9132e-02 -7.8415e-02  ...   4.3107e-02 -2.9712e-02 -4.6575e-02\n",
       "[torch.FloatTensor of size 100x128]"
      ]
     },
     "execution_count": 70,
     "metadata": {},
     "output_type": "execute_result"
    }
   ],
   "source": [
    "out[:,-1,:]"
   ]
  },
  {
   "cell_type": "code",
   "execution_count": 61,
   "metadata": {
    "collapsed": false
   },
   "outputs": [
    {
     "data": {
      "text/plain": [
       "Variable containing:\n",
       "( 0 ,.,.) = \n",
       " -2.6670e-02  3.1863e-02 -8.5677e-02  ...  -1.9916e-01 -2.3491e-02  2.0430e-02\n",
       " -2.8832e-02  8.9233e-03 -8.6614e-02  ...  -1.5755e-01 -3.1161e-02  9.2547e-03\n",
       " -3.6671e-02  2.5809e-02 -9.3431e-02  ...  -1.4968e-01 -3.9327e-02  7.5007e-03\n",
       "                 ...                   ⋱                   ...                \n",
       " -4.9560e-02  2.4455e-02 -8.5921e-02  ...  -1.4408e-01 -4.1288e-02  1.2797e-02\n",
       " -3.9241e-02  1.9108e-02 -8.4092e-02  ...  -1.5258e-01 -3.3994e-02  1.6177e-02\n",
       " -2.6028e-02  1.7030e-02 -8.7740e-02  ...  -1.6264e-01 -2.9146e-02  1.5838e-02\n",
       "\n",
       "( 1 ,.,.) = \n",
       "  1.2123e-01 -3.9223e-02 -1.5591e-01  ...   1.0274e-01 -6.4244e-02 -9.4596e-02\n",
       "  1.2238e-01 -3.2413e-02 -1.4896e-01  ...   8.3393e-02 -6.3470e-02 -8.7849e-02\n",
       "  1.1723e-01 -3.4749e-02 -1.5686e-01  ...   8.6692e-02 -5.7147e-02 -8.4367e-02\n",
       "                 ...                   ⋱                   ...                \n",
       "  1.2845e-01 -3.4372e-02 -1.5782e-01  ...   8.2685e-02 -7.0589e-02 -8.2744e-02\n",
       "  1.2015e-01 -3.0660e-02 -1.5086e-01  ...   8.4106e-02 -5.7775e-02 -8.9965e-02\n",
       "  1.2387e-01 -3.9122e-02 -1.5530e-01  ...   9.3586e-02 -5.9018e-02 -9.6549e-02\n",
       "[torch.FloatTensor of size 2x100x128]"
      ]
     },
     "execution_count": 61,
     "metadata": {},
     "output_type": "execute_result"
    }
   ],
   "source": [
    "A[1]"
   ]
  },
  {
   "cell_type": "code",
   "execution_count": 62,
   "metadata": {
    "collapsed": false
   },
   "outputs": [
    {
     "data": {
      "text/plain": [
       "Variable containing:\n",
       "( 0 ,.,.) = \n",
       "   0   0   0  ...    0   0   0\n",
       "   0   0   0  ...    0   0   0\n",
       "   0   0   0  ...    0   0   0\n",
       "     ...       ⋱       ...    \n",
       "   0   0   0  ...    0   0   0\n",
       "   0   0   0  ...    0   0   0\n",
       "   0   0   0  ...    0   0   0\n",
       "\n",
       "( 1 ,.,.) = \n",
       "   0   0   0  ...    0   0   0\n",
       "   0   0   0  ...    0   0   0\n",
       "   0   0   0  ...    0   0   0\n",
       "     ...       ⋱       ...    \n",
       "   0   0   0  ...    0   0   0\n",
       "   0   0   0  ...    0   0   0\n",
       "   0   0   0  ...    0   0   0\n",
       "[torch.FloatTensor of size 2x100x128]"
      ]
     },
     "execution_count": 62,
     "metadata": {},
     "output_type": "execute_result"
    }
   ],
   "source": [
    "h0"
   ]
  },
  {
   "cell_type": "code",
   "execution_count": 89,
   "metadata": {
    "collapsed": false
   },
   "outputs": [
    {
     "data": {
      "text/plain": [
       "Variable containing:\n",
       " 9\n",
       " 1\n",
       " 3\n",
       " 3\n",
       " 3\n",
       " 4\n",
       " 9\n",
       " 2\n",
       " 4\n",
       " 6\n",
       " 1\n",
       " 0\n",
       " 4\n",
       " 5\n",
       " 3\n",
       " 5\n",
       " 6\n",
       " 9\n",
       " 0\n",
       " 3\n",
       " 8\n",
       " 6\n",
       " 1\n",
       " 3\n",
       " 2\n",
       " 1\n",
       " 9\n",
       " 1\n",
       " 2\n",
       " 6\n",
       " 2\n",
       " 5\n",
       " 2\n",
       " 5\n",
       " 2\n",
       " 9\n",
       " 9\n",
       " 9\n",
       " 2\n",
       " 6\n",
       " 1\n",
       " 4\n",
       " 3\n",
       " 3\n",
       " 4\n",
       " 6\n",
       " 1\n",
       " 8\n",
       " 0\n",
       " 4\n",
       " 1\n",
       " 5\n",
       " 7\n",
       " 5\n",
       " 9\n",
       " 7\n",
       " 1\n",
       " 8\n",
       " 4\n",
       " 9\n",
       " 8\n",
       " 7\n",
       " 7\n",
       " 2\n",
       " 0\n",
       " 1\n",
       " 6\n",
       " 7\n",
       " 7\n",
       " 7\n",
       " 3\n",
       " 8\n",
       " 2\n",
       " 5\n",
       " 4\n",
       " 2\n",
       " 4\n",
       " 1\n",
       " 7\n",
       " 4\n",
       " 9\n",
       " 7\n",
       " 3\n",
       " 2\n",
       " 3\n",
       " 7\n",
       " 4\n",
       " 0\n",
       " 1\n",
       " 6\n",
       " 7\n",
       " 3\n",
       " 8\n",
       " 6\n",
       " 9\n",
       " 7\n",
       " 0\n",
       " 8\n",
       " 6\n",
       " 3\n",
       "[torch.LongTensor of size 100]"
      ]
     },
     "execution_count": 89,
     "metadata": {},
     "output_type": "execute_result"
    }
   ],
   "source": [
    "labels"
   ]
  },
  {
   "cell_type": "code",
   "execution_count": 75,
   "metadata": {
    "collapsed": true
   },
   "outputs": [],
   "source": [
    "fc = nn.Linear(hidden_size, num_classes)"
   ]
  },
  {
   "cell_type": "code",
   "execution_count": 90,
   "metadata": {
    "collapsed": false
   },
   "outputs": [
    {
     "data": {
      "text/plain": [
       "Variable containing:\n",
       " 0.0450  0.0012 -0.0180  ...  -0.0411 -0.0497  0.0487\n",
       " 0.0441  0.0015 -0.0149  ...  -0.0385 -0.0458  0.0475\n",
       " 0.0461  0.0040 -0.0157  ...  -0.0393 -0.0474  0.0502\n",
       "          ...             ⋱             ...          \n",
       " 0.0461  0.0023 -0.0170  ...  -0.0359 -0.0460  0.0481\n",
       " 0.0451  0.0042 -0.0146  ...  -0.0394 -0.0462  0.0492\n",
       " 0.0448  0.0022 -0.0158  ...  -0.0399 -0.0453  0.0486\n",
       "[torch.FloatTensor of size 100x10]"
      ]
     },
     "execution_count": 90,
     "metadata": {},
     "output_type": "execute_result"
    }
   ],
   "source": [
    "fc(out[:,-1,:])"
   ]
  },
  {
   "cell_type": "code",
   "execution_count": null,
   "metadata": {
    "collapsed": true
   },
   "outputs": [],
   "source": []
  }
 ],
 "metadata": {
  "kernelspec": {
   "display_name": "Python 3",
   "language": "python",
   "name": "python3"
  },
  "language_info": {
   "codemirror_mode": {
    "name": "ipython",
    "version": 3
   },
   "file_extension": ".py",
   "mimetype": "text/x-python",
   "name": "python",
   "nbconvert_exporter": "python",
   "pygments_lexer": "ipython3",
   "version": "3.6.0"
  }
 },
 "nbformat": 4,
 "nbformat_minor": 2
}
